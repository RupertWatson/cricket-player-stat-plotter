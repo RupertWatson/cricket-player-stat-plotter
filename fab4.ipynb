{
 "cells": [
  {
   "cell_type": "markdown",
   "metadata": {},
   "source": [
    "## Fab 4 Test Batting rankings over time - from 2012 to 2024"
   ]
  },
  {
   "cell_type": "markdown",
   "metadata": {},
   "source": [
    "1) Make a list of dates\n",
    "2) Make a request to 'https://www.relianceiccrankings.com/datespecific/test/batting/2016/01/01/'\n",
    "3) Use BeautifulSoup to extract rankings of provided player or set of players- e.g Joe Root, Kane Williamson, Steve Smith, Virat Kohli for the given date\n",
    "4) Store the rankings in a pandas dataframe\n",
    "\n",
    "TODO \n",
    "- Add dates properly\n",
    "- Automate plot making     \n",
    "- Add a cool GUI"
   ]
  },
  {
   "cell_type": "markdown",
   "metadata": {},
   "source": [
    "Handle Imports"
   ]
  },
  {
   "cell_type": "code",
   "execution_count": 5,
   "metadata": {},
   "outputs": [],
   "source": [
    "import requests\n",
    "import bs4 \n",
    "import pandas as pd\n",
    "from bs4 import BeautifulSoup\n",
    "import random\n",
    "import time\n",
    "import numpy as np\n",
    "import seaborn as sns\n",
    "import matplotlib.pyplot as plt\n",
    "import matplotlib.dates as mdates\n",
    "\n",
    "HEADERS = {\n",
    "    'User-Agent': 'Mozilla/5.0 (X11; CrOS x86_64 8172.45.0) AppleWebKit/537.36 (KHTML, like Gecko) Chrome/51.0.2704.64 Safari/537.36'\n",
    "}\n",
    "\n",
    "FORMAT = 'test'              #test, odi, t20\n",
    "PLAYER_TYPE = 'batting'     #batting or bowling  - n.b no date specific for all-round or women's cricket :(\n",
    "BASE_URL = 'https://www.relianceiccrankings.com/datespecific/' +  FORMAT + '/' + PLAYER_TYPE + '/'\n",
    "\n",
    "#PLAYERS = ['Joe Root', 'Kane Williamson', 'Steve Smith', 'Virat Kohli']\n",
    "PLAYERS = ['Harry Brook', 'Ben Duckett']\n",
    "PLAYER_COLORS = ['blue','red']\n",
    "YEAR_START = 2024\n",
    "YEAR_END = 2024"
   ]
  },
  {
   "cell_type": "markdown",
   "metadata": {},
   "source": [
    "### Execution Code"
   ]
  },
  {
   "cell_type": "code",
   "execution_count": 12,
   "metadata": {},
   "outputs": [
    {
     "name": "stdout",
     "output_type": "stream",
     "text": [
      "['https://www.relianceiccrankings.com/datespecific/test/batting/2024/01/01/', 'https://www.relianceiccrankings.com/datespecific/test/batting/2024/02/01/', 'https://www.relianceiccrankings.com/datespecific/test/batting/2024/03/01/', 'https://www.relianceiccrankings.com/datespecific/test/batting/2024/04/01/', 'https://www.relianceiccrankings.com/datespecific/test/batting/2024/05/01/', 'https://www.relianceiccrankings.com/datespecific/test/batting/2024/06/01/', 'https://www.relianceiccrankings.com/datespecific/test/batting/2024/07/01/', 'https://www.relianceiccrankings.com/datespecific/test/batting/2024/08/01/', 'https://www.relianceiccrankings.com/datespecific/test/batting/2024/09/01/', 'https://www.relianceiccrankings.com/datespecific/test/batting/2024/10/01/', 'https://www.relianceiccrankings.com/datespecific/test/batting/2024/11/01/', 'https://www.relianceiccrankings.com/datespecific/test/batting/2024/12/01/']\n",
      "Rating:773 found for Player:Harry Brook\n",
      "Rating:633 found for Player:Ben Duckett\n",
      "Adding ['773', '633'] ratings from https://www.relianceiccrankings.com/datespecific/test/batting/2024/01/01/\n",
      "Sleeping for 3.79 seconds...\n",
      "Rating:765 found for Player:Harry Brook\n",
      "Rating:661 found for Player:Ben Duckett\n",
      "Adding ['765', '661'] ratings from https://www.relianceiccrankings.com/datespecific/test/batting/2024/02/01/\n",
      "Sleeping for 4.74 seconds...\n",
      "Rating:743 found for Player:Harry Brook\n",
      "Rating:686 found for Player:Ben Duckett\n",
      "Adding ['743', '686'] ratings from https://www.relianceiccrankings.com/datespecific/test/batting/2024/03/01/\n",
      "Sleeping for 5.40 seconds...\n",
      "Rating:735 found for Player:Harry Brook\n",
      "Rating:663 found for Player:Ben Duckett\n",
      "Adding ['735', '663'] ratings from https://www.relianceiccrankings.com/datespecific/test/batting/2024/04/01/\n",
      "Sleeping for 3.87 seconds...\n",
      "Rating:735 found for Player:Harry Brook\n",
      "Rating:663 found for Player:Ben Duckett\n",
      "Adding ['735', '663'] ratings from https://www.relianceiccrankings.com/datespecific/test/batting/2024/05/01/\n",
      "Sleeping for 3.57 seconds...\n",
      "Rating:735 found for Player:Harry Brook\n",
      "Rating:663 found for Player:Ben Duckett\n",
      "Adding ['735', '663'] ratings from https://www.relianceiccrankings.com/datespecific/test/batting/2024/06/01/\n",
      "Sleeping for 5.02 seconds...\n",
      "Rating:735 found for Player:Harry Brook\n",
      "Rating:663 found for Player:Ben Duckett\n",
      "Adding ['735', '663'] ratings from https://www.relianceiccrankings.com/datespecific/test/batting/2024/07/01/\n",
      "Sleeping for 5.26 seconds...\n",
      "Rating:749 found for Player:Harry Brook\n",
      "Rating:684 found for Player:Ben Duckett\n",
      "Adding ['749', '684'] ratings from https://www.relianceiccrankings.com/datespecific/test/batting/2024/08/01/\n",
      "Sleeping for 5.99 seconds...\n",
      "Rating:758 found for Player:Harry Brook\n",
      "Rating:662 found for Player:Ben Duckett\n",
      "Adding ['758', '662'] ratings from https://www.relianceiccrankings.com/datespecific/test/batting/2024/09/01/\n",
      "Sleeping for 5.98 seconds...\n",
      "Rating:709 found for Player:Harry Brook\n",
      "Rating:669 found for Player:Ben Duckett\n",
      "Adding ['709', '669'] ratings from https://www.relianceiccrankings.com/datespecific/test/batting/2024/10/01/\n",
      "Sleeping for 5.68 seconds...\n",
      "Rating:778 found for Player:Harry Brook\n",
      "Rating:701 found for Player:Ben Duckett\n",
      "Adding ['778', '701'] ratings from https://www.relianceiccrankings.com/datespecific/test/batting/2024/11/01/\n",
      "Sleeping for 5.53 seconds...\n",
      "Rating:778 found for Player:Harry Brook\n",
      "Rating:701 found for Player:Ben Duckett\n",
      "Adding ['778', '701'] ratings from https://www.relianceiccrankings.com/datespecific/test/batting/2024/12/01/\n",
      "Sleeping for 4.34 seconds...\n",
      "[['773', '633'], ['765', '661'], ['743', '686'], ['735', '663'], ['735', '663'], ['735', '663'], ['735', '663'], ['749', '684'], ['758', '662'], ['709', '669'], ['778', '701'], ['778', '701']]\n"
     ]
    }
   ],
   "source": [
    "player_ratings = []\n",
    "#create links for every month between specified years\n",
    "links = create_links(YEAR_START,YEAR_END)\n",
    "print(links)\n",
    "\n",
    "for link in links:\n",
    "    response = make_a_request(link)\n",
    "    table = extract_table(response)\n",
    "    player_rating_month = extract_player_ratings(table,PLAYERS)           \n",
    "    player_ratings.append(player_rating_month)\n",
    "    print(\"Adding {0} ratings from {1}\".format(player_rating_month,link))\n",
    "    wait_function()\n",
    "    \n",
    "print(player_ratings)"
   ]
  },
  {
   "cell_type": "code",
   "execution_count": 13,
   "metadata": {},
   "outputs": [],
   "source": [
    "df = pd.DataFrame(player_ratings,columns=PLAYERS)"
   ]
  },
  {
   "cell_type": "markdown",
   "metadata": {},
   "source": [
    "### Production Code"
   ]
  },
  {
   "cell_type": "code",
   "execution_count": 7,
   "metadata": {},
   "outputs": [],
   "source": [
    "def make_a_request(link):\n",
    "    try:\n",
    "        response = requests.get(link, headers=HEADERS)\n",
    "        if response.status_code == 200:\n",
    "            return response\n",
    "        else:\n",
    "            print(f\"Error: Received status code {response.status_code}\")\n",
    "            return None\n",
    "    except requests.exceptions.RequestException as e:\n",
    "        print(f\"Request failed: {e}\")\n",
    "        return None   "
   ]
  },
  {
   "cell_type": "code",
   "execution_count": 8,
   "metadata": {},
   "outputs": [],
   "source": [
    "def wait_function():\n",
    "    delay = random.uniform(3, 6) # Random delay \n",
    "    print(f\"Sleeping for {delay:.2f} seconds...\")\n",
    "    time.sleep(delay)"
   ]
  },
  {
   "cell_type": "code",
   "execution_count": 9,
   "metadata": {},
   "outputs": [],
   "source": [
    "def extract_table(response):\n",
    "    try:\n",
    "        html_content = response.content\n",
    "        soup = BeautifulSoup(html_content, \"html.parser\") if html_content else None\n",
    "        if not soup:\n",
    "            return {}\n",
    "        table = soup.find('table')\n",
    "        if not table:\n",
    "            return {}\n",
    "        return table\n",
    "    except Exception as e:\n",
    "        print(f\"An error occurred: {str(e)}\")\n",
    "        return {}"
   ]
  },
  {
   "cell_type": "code",
   "execution_count": 10,
   "metadata": {},
   "outputs": [],
   "source": [
    "def create_links(year_start,year_end):\n",
    "    dates = []\n",
    "    for year in range(year_start,year_end+1):\n",
    "        for month in range(1,13):\n",
    "            dates.append('{0}/{1:02d}/01/'.format(year,month))\n",
    "    return [(BASE_URL + date) for date in dates]"
   ]
  },
  {
   "cell_type": "code",
   "execution_count": 11,
   "metadata": {},
   "outputs": [],
   "source": [
    "def extract_player_ratings(table,players):\n",
    "    rows = table.find_all('tr')\n",
    "    players_found = 0\n",
    "    player_rating_month = [None] * len(players)\n",
    "    while players_found < len(players):         #Once we find all our players, stop\n",
    "        for row in rows:\n",
    "            #Find the 3rd column cell which contains the names\n",
    "            player_name_cell = row.find_all('td')[2:3]\n",
    "            if player_name_cell:\n",
    "                name = player_name_cell[0].find('a')\n",
    "                player_name = name.string.strip()\n",
    "                #check if the name matches any of our players: if it does, extract the rating\n",
    "                if player_name in players:\n",
    "                    rating_cell = row.find_all('td')[1:2]\n",
    "                    rating = rating_cell[0].string\n",
    "                    print(\"Rating:{0} found for Player:{1}\".format(rating,player_name))\n",
    "                    players_found += 1\n",
    "                    #Set the player rating into the correct column based on players\n",
    "                    player_rating_month[PLAYERS.index(player_name)] = rating   \n",
    "        return(player_rating_month)  "
   ]
  },
  {
   "cell_type": "markdown",
   "metadata": {},
   "source": [
    "### Function to Create a plot with matplotlib"
   ]
  },
  {
   "cell_type": "code",
   "execution_count": null,
   "metadata": {},
   "outputs": [],
   "source": []
  }
 ],
 "metadata": {
  "kernelspec": {
   "display_name": "Python 3",
   "language": "python",
   "name": "python3"
  },
  "language_info": {
   "codemirror_mode": {
    "name": "ipython",
    "version": 3
   },
   "file_extension": ".py",
   "mimetype": "text/x-python",
   "name": "python",
   "nbconvert_exporter": "python",
   "pygments_lexer": "ipython3",
   "version": "3.9.7"
  }
 },
 "nbformat": 4,
 "nbformat_minor": 2
}
